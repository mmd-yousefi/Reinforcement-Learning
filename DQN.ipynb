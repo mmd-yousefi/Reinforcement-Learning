{
  "cells": [
    {
      "cell_type": "code",
      "execution_count": 1,
      "metadata": {
        "colab": {
          "base_uri": "https://localhost:8080/"
        },
        "id": "ifORf-d9Tnbc",
        "outputId": "2149f160-ccb7-4a2e-ba0c-a198e5e58f29"
      },
      "outputs": [
        {
          "name": "stdout",
          "output_type": "stream",
          "text": [
            "Looking in indexes: https://pypi.org/simple, https://us-python.pkg.dev/colab-wheels/public/simple/\n",
            "Requirement already satisfied: gym in /usr/local/lib/python3.7/dist-packages (0.24.0)\n",
            "Requirement already satisfied: cloudpickle>=1.2.0 in /usr/local/lib/python3.7/dist-packages (from gym) (1.3.0)\n",
            "Requirement already satisfied: gym-notices>=0.0.4 in /usr/local/lib/python3.7/dist-packages (from gym) (0.0.6)\n",
            "Requirement already satisfied: numpy>=1.18.0 in /usr/local/lib/python3.7/dist-packages (from gym) (1.21.6)\n",
            "Requirement already satisfied: importlib-metadata>=4.8.0 in /usr/local/lib/python3.7/dist-packages (from gym) (4.11.4)\n",
            "Requirement already satisfied: typing-extensions>=3.6.4 in /usr/local/lib/python3.7/dist-packages (from importlib-metadata>=4.8.0->gym) (4.2.0)\n",
            "Requirement already satisfied: zipp>=0.5 in /usr/local/lib/python3.7/dist-packages (from importlib-metadata>=4.8.0->gym) (3.8.0)\n",
            "Looking in indexes: https://pypi.org/simple, https://us-python.pkg.dev/colab-wheels/public/simple/\n",
            "Requirement already satisfied: pyglet in /usr/local/lib/python3.7/dist-packages (1.5.0)\n",
            "Requirement already satisfied: future in /usr/local/lib/python3.7/dist-packages (from pyglet) (0.16.0)\n",
            "Looking in indexes: https://pypi.org/simple, https://us-python.pkg.dev/colab-wheels/public/simple/\n",
            "Requirement already satisfied: Box2D in /usr/local/lib/python3.7/dist-packages (2.3.10)\n",
            "Looking in indexes: https://pypi.org/simple, https://us-python.pkg.dev/colab-wheels/public/simple/\n",
            "Requirement already satisfied: box2d-py in /usr/local/lib/python3.7/dist-packages (2.3.5)\n",
            "Looking in indexes: https://pypi.org/simple, https://us-python.pkg.dev/colab-wheels/public/simple/\n",
            "Requirement already satisfied: gym[Box_2D] in /usr/local/lib/python3.7/dist-packages (0.24.0)\n",
            "\u001b[33mWARNING: gym 0.24.0 does not provide the extra 'box_2d'\u001b[0m\n",
            "Requirement already satisfied: importlib-metadata>=4.8.0 in /usr/local/lib/python3.7/dist-packages (from gym[Box_2D]) (4.11.4)\n",
            "Requirement already satisfied: numpy>=1.18.0 in /usr/local/lib/python3.7/dist-packages (from gym[Box_2D]) (1.21.6)\n",
            "Requirement already satisfied: gym-notices>=0.0.4 in /usr/local/lib/python3.7/dist-packages (from gym[Box_2D]) (0.0.6)\n",
            "Requirement already satisfied: cloudpickle>=1.2.0 in /usr/local/lib/python3.7/dist-packages (from gym[Box_2D]) (1.3.0)\n",
            "Requirement already satisfied: zipp>=0.5 in /usr/local/lib/python3.7/dist-packages (from importlib-metadata>=4.8.0->gym[Box_2D]) (3.8.0)\n",
            "Requirement already satisfied: typing-extensions>=3.6.4 in /usr/local/lib/python3.7/dist-packages (from importlib-metadata>=4.8.0->gym[Box_2D]) (4.2.0)\n",
            "Looking in indexes: https://pypi.org/simple, https://us-python.pkg.dev/colab-wheels/public/simple/\n",
            "Requirement already satisfied: gym[box2d] in /usr/local/lib/python3.7/dist-packages (0.24.0)\n",
            "Requirement already satisfied: numpy>=1.18.0 in /usr/local/lib/python3.7/dist-packages (from gym[box2d]) (1.21.6)\n",
            "Requirement already satisfied: importlib-metadata>=4.8.0 in /usr/local/lib/python3.7/dist-packages (from gym[box2d]) (4.11.4)\n",
            "Requirement already satisfied: gym-notices>=0.0.4 in /usr/local/lib/python3.7/dist-packages (from gym[box2d]) (0.0.6)\n",
            "Requirement already satisfied: cloudpickle>=1.2.0 in /usr/local/lib/python3.7/dist-packages (from gym[box2d]) (1.3.0)\n",
            "Requirement already satisfied: pygame==2.1.0 in /usr/local/lib/python3.7/dist-packages (from gym[box2d]) (2.1.0)\n",
            "Requirement already satisfied: box2d-py==2.3.5 in /usr/local/lib/python3.7/dist-packages (from gym[box2d]) (2.3.5)\n",
            "Requirement already satisfied: zipp>=0.5 in /usr/local/lib/python3.7/dist-packages (from importlib-metadata>=4.8.0->gym[box2d]) (3.8.0)\n",
            "Requirement already satisfied: typing-extensions>=3.6.4 in /usr/local/lib/python3.7/dist-packages (from importlib-metadata>=4.8.0->gym[box2d]) (4.2.0)\n"
          ]
        }
      ],
      "source": [
        "!pip3 install gym --upgrade\n",
        "!pip3 install pyglet\n",
        "!pip3 install Box2D\n",
        "!pip3 install box2d-py\n",
        "!pip3 install gym[Box_2D]\n",
        "!pip3 install gym[box2d]"
      ]
    },
    {
      "cell_type": "code",
      "execution_count": 16,
      "metadata": {
        "id": "pRAHz6UW_wSo"
      },
      "outputs": [],
      "source": [
        "from torch.cuda import device_count\n",
        "import torch\n",
        "import gym\n",
        "import random\n",
        "import matplotlib.pyplot as plt\n",
        "import numpy as np\n",
        "import torch.optim as optim"
      ]
    },
    {
      "cell_type": "code",
      "execution_count": 17,
      "metadata": {
        "colab": {
          "base_uri": "https://localhost:8080/"
        },
        "id": "99OidDcFQvIf",
        "outputId": "5743610c-c81c-4e96-a9ff-96e0f08f7fce"
      },
      "outputs": [
        {
          "data": {
            "text/plain": [
              "device(type='cuda', index=0)"
            ]
          },
          "execution_count": 17,
          "metadata": {},
          "output_type": "execute_result"
        }
      ],
      "source": [
        "device = torch.device(\"cuda:0\" if torch.cuda.is_available() else \"cpu\")\n",
        "device"
      ]
    },
    {
      "cell_type": "code",
      "execution_count": 18,
      "metadata": {
        "id": "aCd-NgGlSFTu"
      },
      "outputs": [],
      "source": [
        "# enviroment\n",
        "import gym\n",
        "\n",
        "env = gym.make('LunarLander-v2')\n",
        "state_size = 8\n",
        "action_size = 4"
      ]
    },
    {
      "cell_type": "code",
      "execution_count": 19,
      "metadata": {
        "id": "5FnHb5j7_f1f"
      },
      "outputs": [],
      "source": [
        "import random\n",
        "from collections import namedtuple, deque\n",
        "\n",
        "Transition = namedtuple('Transition',\n",
        "                        ('state', 'action', 'next_state', 'reward', 'done'))\n",
        "\n",
        "class ExperienceReplay():\n",
        "\n",
        "    def __init__(self,buffer_size):\n",
        "        self.action_size = action_size\n",
        "        self.memory = deque(maxlen=buffer_size)  \n",
        "        self.experience = Transition\n",
        "        self.seed = random.seed(0)\n",
        "    \n",
        "    def store_trans(self, state, action,next_state, reward, done):\n",
        "        e = self.experience(state, action, next_state, reward, done)\n",
        "        self.memory.append(e)\n",
        "    \n",
        "    def sample(self,batch_size):\n",
        "        experiences = random.sample(self.memory, k=batch_size)\n",
        "        return experiences\n",
        "\n",
        "    def __len__(self):\n",
        "        return len(self.memory)"
      ]
    },
    {
      "cell_type": "code",
      "execution_count": 21,
      "metadata": {
        "id": "Grn_xbTM_r2j"
      },
      "outputs": [],
      "source": [
        "import torch.nn as nn\n",
        "import torch.nn.functional as F\n",
        "class DeepQNetwork(nn.Module):\n",
        "    def __init__(self, state_size, action_size):\n",
        "        super(DeepQNetwork, self).__init__()\n",
        "        torch.manual_seed(0)\n",
        "        fc1_units = 256\n",
        "        fc2_units = 64\n",
        "        self.fc1 = nn.Linear(state_size, fc1_units)\n",
        "        self.fc2 = nn.Linear(fc1_units, fc2_units)\n",
        "        self.fc3 = nn.Linear(fc2_units, action_size)\n",
        "\n",
        "    def forward(self, X):\n",
        "        x = self.fc1(X)\n",
        "        x = F.relu(x)\n",
        "        x = self.fc2(x)\n",
        "        x = F.relu(x)\n",
        "        action = self.fc3(x)\n",
        "        return action"
      ]
    },
    {
      "cell_type": "code",
      "execution_count": 22,
      "metadata": {
        "id": "xe4Kz9A37U35"
      },
      "outputs": [],
      "source": [
        "class DQNAgent():\n",
        "    def __init__(self, state_size, action_size, batch_size,\n",
        "                 gamma=0.99, buffer_size=250000, alpha=5e-4):\n",
        "      \n",
        "        # network parameter\n",
        "        self.state_size = state_size\n",
        "        self.action_size = action_size\n",
        "        # hyperparameters\n",
        "        self.batch_size = batch_size\n",
        "        self.gamma = gamma\n",
        "        self.buffer_size = buffer_size\n",
        "\n",
        "        # Replay memory\n",
        "        self.experience_replay = ExperienceReplay(self.buffer_size)\n",
        "\n",
        "        # network\n",
        "        self.value_net = DeepQNetwork(state_size, action_size).to(device)\n",
        "\n",
        "        # optimizer\n",
        "        self.optimizer = optim.Adam(self.value_net.parameters(), lr=alpha)\n",
        "\n",
        "    def take_action(self, state, eps=0.):\n",
        "        state = torch.from_numpy(state).float().unsqueeze(0).to(device)\n",
        "        self.value_net.eval()\n",
        "        with torch.no_grad():\n",
        "            action_values = self.value_net(state)\n",
        "        self.value_net.train()\n",
        "\n",
        "        # Epsilon-greedy action selection\n",
        "        if random.random() > eps:\n",
        "            return np.argmax(action_values.cpu().data.numpy())\n",
        "        else:\n",
        "            return random.choice(np.arange(self.action_size))\n",
        "\n",
        "    def update_params(self):\n",
        "        if len(self.experience_replay) < self.batch_size:\n",
        "            return\n",
        "        batch = self.experience_replay.sample(self.batch_size)\n",
        "        state_batch = torch.from_numpy(np.vstack([e.state for e in batch if e is not None])).float().to(device)\n",
        "        action_batch = torch.from_numpy(np.vstack([e.action for e in batch if e is not None])).long().to(device)\n",
        "        next_state_batch = torch.from_numpy(np.vstack([e.next_state for e in batch if e is not None])).float().to(device)\n",
        "        reward_batch = torch.from_numpy(np.vstack([e.reward for e in batch if e is not None])).float().to(device)\n",
        "        done_batch = torch.from_numpy(np.vstack([e.done for e in batch if e is not None]).astype(np.uint8)).float().to(device)\n",
        "        \n",
        "        q_expected = self.value_net.forward(state_batch).gather(1, action_batch)\n",
        "        \n",
        "        q_targets_next = self.value_net.forward(next_state_batch).detach().max(1)[0].unsqueeze(1)\n",
        "        ### Calculate target value from bellman equation\n",
        "        q_targets = reward_batch + self.gamma * q_targets_next * (1-done_batch)\n",
        "        ### Calculate expected value \n",
        "      \n",
        "        ### Loss calculation\n",
        "        loss = F.mse_loss(q_expected, q_targets)\n",
        "        self.optimizer.zero_grad()\n",
        "        loss.backward()\n",
        "        self.optimizer.step()\n",
        "    \n",
        "    def save(self, fname):\n",
        "      torch.save(agent.value_net.state_dict(), fname)\n",
        "    \n",
        "    def load(self, fname, device):\n",
        "        self.value_net.load_state_dict(torch.load(fname)).to(device)\n"
      ]
    },
    {
      "cell_type": "code",
      "execution_count": 23,
      "metadata": {
        "id": "zP5gEFOY0hz4"
      },
      "outputs": [],
      "source": [
        "import os\n",
        "from gym.wrappers.monitoring import video_recorder\n",
        "os.environ['SDL_VIDEODRIVER']='dummy'\n",
        "def save_video(agent, env_name):\n",
        "    env = gym.make('LunarLander-v2')\n",
        "    vid = video_recorder.VideoRecorder(env, path=\"{}.mp4\".format(env_name))\n",
        "    agent.value_net.load_state_dict(torch.load('checkpoint.pth'))\n",
        "    state = env.reset()\n",
        "    done = False\n",
        "    while not done:\n",
        "        frame = env.render(mode='rgb_array')\n",
        "        vid.capture_frame()\n",
        "        \n",
        "        action = agent.take_action(state)\n",
        "\n",
        "        state, reward, done, _ = env.step(action)        \n",
        "    env.close()"
      ]
    },
    {
      "cell_type": "code",
      "execution_count": 25,
      "metadata": {
        "id": "LOXLJrr6YL21"
      },
      "outputs": [],
      "source": [
        "# NOTE: DON'T change values\n",
        "n_episodes = 100\n",
        "eps = 1.0\n",
        "eps_decay_rate = 0.97\n",
        "eps_end = 0.01"
      ]
    },
    {
      "cell_type": "code",
      "execution_count": 26,
      "metadata": {
        "colab": {
          "base_uri": "https://localhost:8080/"
        },
        "id": "uYhWlvpFSx2g",
        "outputId": "8b51bc4b-5c85-4d4b-8537-aab050fc6f74"
      },
      "outputs": [
        {
          "name": "stdout",
          "output_type": "stream",
          "text": [
            "Episode 25\tAverage Reward: -157.25\tEpsilon: 0.47\n",
            "Episode 50\tAverage Reward: -117.95\tEpsilon: 0.22\n",
            "Episode 75\tAverage Reward: -98.39\tEpsilon: 0.10\n",
            "Episode 100\tAverage Reward: -59.58\tEpsilon: 0.05\n",
            "Episode 125\tAverage Reward: -71.28\tEpsilon: 0.02\n",
            "Episode 150\tAverage Reward: -55.18\tEpsilon: 0.01\n",
            "Episode 175\tAverage Reward: -44.59\tEpsilon: 0.01\n",
            "Episode 200\tAverage Reward: -72.43\tEpsilon: 0.01\n",
            "Episode 225\tAverage Reward: -13.68\tEpsilon: 0.01\n",
            "Episode 250\tAverage Reward: 127.06\tEpsilon: 0.01\n"
          ]
        }
      ],
      "source": [
        "Batch_size = 64\n",
        "agent = DQNAgent(state_size, action_size, Batch_size)\n",
        "\n",
        "crs = np.zeros(n_episodes) # cummulative rewards\n",
        "crs_recent = deque(maxlen=25) # recent cummulative rewards\n",
        "for i_episode in range(1, n_episodes+1):\n",
        "    state = env.reset()\n",
        "    score = 0\n",
        "    done = False\n",
        "    while not done:\n",
        "        action = agent.take_action(state, eps)\n",
        "        next_state, reward, done, _ = env.step(action)\n",
        "        agent.experience_replay.store_trans(state, action, next_state, reward, done)\n",
        "        agent.update_params()\n",
        "        state = next_state\n",
        "        score += reward\n",
        "\n",
        "    # decrease epsilon\n",
        "    eps = max(eps_end, eps_decay_rate*eps) \n",
        "    crs[i_episode-1] = score \n",
        "    crs_recent.append(score)                  \n",
        "    if i_episode % 50  == 0:\n",
        "        agent.save('checkpoint.pth')\n",
        "    print('\\rEpisode {}\\tAverage Reward: {:.2f}\\tEpsilon: {:.2f}'.format(i_episode, np.mean(crs_recent), eps), end=\"\")\n",
        "    if i_episode % 25 == 0:\n",
        "        print('\\rEpisode {}\\tAverage Reward: {:.2f}\\tEpsilon: {:.2f}'.format(i_episode, np.mean(crs_recent), eps))\n",
        "\n",
        "    # if np.mean(crs_recent)>=200.0:\n",
        "    #     print('\\nEnvironment solved in {:d} episodes!\\tAverage Score: {:.2f}'.format(i_episode, np.mean(crs_recent)))\n",
        "    #     agent.save('checkpoint.pth')\n",
        "    #     break"
      ]
    },
    {
      "cell_type": "code",
      "execution_count": null,
      "metadata": {
        "id": "MWv4URRlVC2h"
      },
      "outputs": [],
      "source": [
        "plt.plot(np.arange(len(crs)), crs)\n",
        "plt.ylabel('Reward')\n",
        "plt.xlabel('Training Steps')\n",
        "plt.show()"
      ]
    },
    {
      "cell_type": "code",
      "execution_count": 28,
      "metadata": {
        "id": "7-Tje3FNJ7gd"
      },
      "outputs": [],
      "source": [
        "agent = DQNAgent(state_size=8, action_size=4, batch_size= 64)\n",
        "save_video(agent,'DQN_64_250_2')"
      ]
    }
  ],
  "metadata": {
    "accelerator": "GPU",
    "colab": {
      "collapsed_sections": [],
      "name": "DQN.ipynb",
      "provenance": []
    },
    "kernelspec": {
      "display_name": "Python 3",
      "name": "python3"
    },
    "language_info": {
      "name": "python"
    }
  },
  "nbformat": 4,
  "nbformat_minor": 0
}
